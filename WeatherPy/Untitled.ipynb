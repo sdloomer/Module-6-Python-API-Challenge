{
 "cells": [
  {
   "cell_type": "code",
   "execution_count": 1,
   "id": "c85449f5-f3dc-40f3-848d-8eb299659c7a",
   "metadata": {},
   "outputs": [],
   "source": [
    "# Dependencies and Setup\n",
    "import matplotlib.pyplot as plt\n",
    "import pandas as pd\n",
    "import numpy as np\n",
    "import requests\n",
    "import time\n",
    "from scipy.stats import linregress\n",
    "from pprint import pprint\n",
    "\n",
    "# Impor the OpenWeatherMap API key\n",
    "from api_keys import weather_api_key\n",
    "\n",
    "# Import citipy to determine the cities based on latitude and longitude\n",
    "from citipy import citipy"
   ]
  },
  {
   "cell_type": "code",
   "execution_count": 2,
   "id": "30bca6a2-089b-4f5f-aaed-5821c418b0fb",
   "metadata": {},
   "outputs": [
    {
     "name": "stdout",
     "output_type": "stream",
     "text": [
      "Number of cities in the list: 614\n"
     ]
    }
   ],
   "source": [
    "# Empty list for holding the latitude and longitude combinations\n",
    "lat_lngs = []\n",
    "\n",
    "# Empty list for holding the cities names\n",
    "cities = []\n",
    "\n",
    "# Range of latitudes and longitudes\n",
    "lat_range = (-90, 90)\n",
    "lng_range = (-180, 180)\n",
    "\n",
    "# Create a set of random lat and lng combinations\n",
    "lats = np.random.uniform(lat_range[0], lat_range[1], size=1500)\n",
    "lngs = np.random.uniform(lng_range[0], lng_range[1], size=1500)\n",
    "lat_lngs = zip(lats, lngs)\n",
    "\n",
    "# Identify nearest city for each lat, lng combination\n",
    "for lat_lng in lat_lngs:\n",
    "    city = citipy.nearest_city(lat_lng[0], lat_lng[1]).city_name\n",
    "    \n",
    "    # If the city is unique, then add it to a our cities list\n",
    "    if city not in cities:\n",
    "        cities.append(city)\n",
    "\n",
    "# Print the city count to confirm sufficient count\n",
    "print(f\"Number of cities in the list: {len(cities)}\")"
   ]
  },
  {
   "cell_type": "code",
   "execution_count": 3,
   "id": "27cdbdac-f300-496b-bf7d-5d9ecb0f5d2a",
   "metadata": {},
   "outputs": [],
   "source": [
    "url = \"http://api.openweathermap.org/data/2.5/weather?\""
   ]
  },
  {
   "cell_type": "code",
   "execution_count": 4,
   "id": "52278524-63e3-4145-93df-73706476c54e",
   "metadata": {},
   "outputs": [],
   "source": [
    "city_url = url + \"appid=\" + weather_api_key + \"&q=\" + city"
   ]
  },
  {
   "cell_type": "code",
   "execution_count": 5,
   "id": "4c2a6c20-cd87-4db6-bb9c-ce5f75866b99",
   "metadata": {},
   "outputs": [
    {
     "name": "stdout",
     "output_type": "stream",
     "text": [
      "{'base': 'stations',\n",
      " 'clouds': {'all': 0},\n",
      " 'cod': 200,\n",
      " 'coord': {'lat': 41.6501, 'lon': -83.6666},\n",
      " 'dt': 1684710579,\n",
      " 'id': 5161413,\n",
      " 'main': {'feels_like': 295.85,\n",
      "          'humidity': 32,\n",
      "          'pressure': 1018,\n",
      "          'temp': 296.61,\n",
      "          'temp_max': 297.44,\n",
      "          'temp_min': 295.66},\n",
      " 'name': 'Lucas',\n",
      " 'sys': {'country': 'US',\n",
      "         'id': 2001445,\n",
      "         'sunrise': 1684663805,\n",
      "         'sunset': 1684716762,\n",
      "         'type': 2},\n",
      " 'timezone': -14400,\n",
      " 'visibility': 10000,\n",
      " 'weather': [{'description': 'clear sky',\n",
      "              'icon': '01d',\n",
      "              'id': 800,\n",
      "              'main': 'Clear'}],\n",
      " 'wind': {'deg': 350, 'speed': 4.63}}\n"
     ]
    }
   ],
   "source": [
    "query_url = requests.get(city_url).json()\n",
    "pprint(query_url)"
   ]
  },
  {
   "cell_type": "code",
   "execution_count": 6,
   "id": "9b52733f-9a85-40f5-821a-85167b34b3ec",
   "metadata": {},
   "outputs": [
    {
     "name": "stdout",
     "output_type": "stream",
     "text": [
      "The weather API responded with: {'coord': {'lon': -83.6666, 'lat': 41.6501}, 'weather': [{'id': 800, 'main': 'Clear', 'description': 'clear sky', 'icon': '01d'}], 'base': 'stations', 'main': {'temp': 296.61, 'feels_like': 295.85, 'temp_min': 295.66, 'temp_max': 297.44, 'pressure': 1018, 'humidity': 32}, 'visibility': 10000, 'wind': {'speed': 4.63, 'deg': 350}, 'clouds': {'all': 0}, 'dt': 1684710579, 'sys': {'type': 2, 'id': 2001445, 'country': 'US', 'sunrise': 1684663805, 'sunset': 1684716762}, 'timezone': -14400, 'id': 5161413, 'name': 'Lucas', 'cod': 200}.\n"
     ]
    }
   ],
   "source": [
    "print(f\"The weather API responded with: {query_url}.\")"
   ]
  },
  {
   "cell_type": "code",
   "execution_count": 7,
   "id": "0e4def51-3c47-4ce3-aafc-23ac7cf8de70",
   "metadata": {},
   "outputs": [
    {
     "data": {
      "text/plain": [
       "41.6501"
      ]
     },
     "execution_count": 7,
     "metadata": {},
     "output_type": "execute_result"
    }
   ],
   "source": [
    "city_lat = query_url[\"coord\"][\"lat\"]\n",
    "city_lat"
   ]
  },
  {
   "cell_type": "code",
   "execution_count": 8,
   "id": "e2a123f4-b04a-4b3a-9dde-041c517068a5",
   "metadata": {},
   "outputs": [
    {
     "data": {
      "text/plain": [
       "-83.6666"
      ]
     },
     "execution_count": 8,
     "metadata": {},
     "output_type": "execute_result"
    }
   ],
   "source": [
    "city_lng = query_url[\"coord\"][\"lon\"]\n",
    "city_lng"
   ]
  },
  {
   "cell_type": "code",
   "execution_count": 9,
   "id": "72e9a8c0-2739-463c-98d7-09f99e849bc4",
   "metadata": {},
   "outputs": [
    {
     "data": {
      "text/plain": [
       "297.44"
      ]
     },
     "execution_count": 9,
     "metadata": {},
     "output_type": "execute_result"
    }
   ],
   "source": [
    "city_max_temp = query_url[\"main\"][\"temp_max\"]\n",
    "city_max_temp"
   ]
  },
  {
   "cell_type": "code",
   "execution_count": 10,
   "id": "0f43ec74-224a-437a-abf2-6045a44aada1",
   "metadata": {},
   "outputs": [
    {
     "data": {
      "text/plain": [
       "32"
      ]
     },
     "execution_count": 10,
     "metadata": {},
     "output_type": "execute_result"
    }
   ],
   "source": [
    "city_humidity = query_url[\"main\"][\"humidity\"]\n",
    "city_humidity"
   ]
  },
  {
   "cell_type": "code",
   "execution_count": 11,
   "id": "75186e15-f4c0-40fe-a622-680cd86631c3",
   "metadata": {},
   "outputs": [
    {
     "data": {
      "text/plain": [
       "0"
      ]
     },
     "execution_count": 11,
     "metadata": {},
     "output_type": "execute_result"
    }
   ],
   "source": [
    "city_clouds = query_url[\"clouds\"][\"all\"]\n",
    "city_clouds"
   ]
  },
  {
   "cell_type": "code",
   "execution_count": 12,
   "id": "16bd6842-696b-4468-a673-1c4f6b563aee",
   "metadata": {},
   "outputs": [
    {
     "data": {
      "text/plain": [
       "4.63"
      ]
     },
     "execution_count": 12,
     "metadata": {},
     "output_type": "execute_result"
    }
   ],
   "source": [
    "city_wind = query_url[\"wind\"][\"speed\"]\n",
    "city_wind"
   ]
  },
  {
   "cell_type": "code",
   "execution_count": 13,
   "id": "8f50681b-f203-4010-b5fa-31cf0ba32e4f",
   "metadata": {},
   "outputs": [
    {
     "data": {
      "text/plain": [
       "'US'"
      ]
     },
     "execution_count": 13,
     "metadata": {},
     "output_type": "execute_result"
    }
   ],
   "source": [
    "city_country = query_url[\"sys\"][\"country\"]\n",
    "city_country"
   ]
  },
  {
   "cell_type": "code",
   "execution_count": 14,
   "id": "83d7c8a2-9077-4eb7-a277-cab5fb2af4b1",
   "metadata": {},
   "outputs": [
    {
     "data": {
      "text/plain": [
       "1684710579"
      ]
     },
     "execution_count": 14,
     "metadata": {},
     "output_type": "execute_result"
    }
   ],
   "source": [
    "city_date = query_url[\"dt\"]\n",
    "city_date"
   ]
  },
  {
   "cell_type": "code",
   "execution_count": null,
   "id": "373b3852-e0fe-42fb-8130-e5038da90869",
   "metadata": {},
   "outputs": [],
   "source": []
  }
 ],
 "metadata": {
  "kernelspec": {
   "display_name": "Python 3 (ipykernel)",
   "language": "python",
   "name": "python3"
  },
  "language_info": {
   "codemirror_mode": {
    "name": "ipython",
    "version": 3
   },
   "file_extension": ".py",
   "mimetype": "text/x-python",
   "name": "python",
   "nbconvert_exporter": "python",
   "pygments_lexer": "ipython3",
   "version": "3.10.11"
  }
 },
 "nbformat": 4,
 "nbformat_minor": 5
}
